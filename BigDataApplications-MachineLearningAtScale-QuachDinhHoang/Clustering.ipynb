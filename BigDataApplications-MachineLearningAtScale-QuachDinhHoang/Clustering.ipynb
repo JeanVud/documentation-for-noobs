{
 "cells": [
  {
   "cell_type": "markdown",
   "metadata": {},
   "source": [
    "# I. Hướng dẫn"
   ]
  },
  {
   "cell_type": "markdown",
   "metadata": {},
   "source": [
    "## Khởi tạo Spark"
   ]
  },
  {
   "cell_type": "code",
   "execution_count": 1,
   "metadata": {},
   "outputs": [],
   "source": [
    "import findspark\n",
    "findspark.init()\n",
    "\n",
    "import pyspark\n",
    "findspark.find()\n",
    "\n",
    "from pyspark.sql import SparkSession\n",
    "from pyspark.sql.functions import count\n",
    "\n",
    "spark = (SparkSession\n",
    "         .builder\n",
    "         .appName(\"Clustering\")\n",
    "         .getOrCreate())"
   ]
  },
  {
   "cell_type": "markdown",
   "metadata": {},
   "source": [
    "## Đọc và load tập dữ liệu Iris"
   ]
  },
  {
   "cell_type": "code",
   "execution_count": 2,
   "metadata": {},
   "outputs": [
    {
     "name": "stdout",
     "output_type": "stream",
     "text": [
      "+------------+-----------+------------+-----------+-----------+\n",
      "|sepal_length|sepal_width|petal_length|petal_width|      class|\n",
      "+------------+-----------+------------+-----------+-----------+\n",
      "|         5.1|        3.5|         1.4|        0.2|Iris-setosa|\n",
      "|         4.9|        3.0|         1.4|        0.2|Iris-setosa|\n",
      "|         4.7|        3.2|         1.3|        0.2|Iris-setosa|\n",
      "|         4.6|        3.1|         1.5|        0.2|Iris-setosa|\n",
      "|         5.0|        3.6|         1.4|        0.2|Iris-setosa|\n",
      "|         5.4|        3.9|         1.7|        0.4|Iris-setosa|\n",
      "|         4.6|        3.4|         1.4|        0.3|Iris-setosa|\n",
      "|         5.0|        3.4|         1.5|        0.2|Iris-setosa|\n",
      "|         4.4|        2.9|         1.4|        0.2|Iris-setosa|\n",
      "|         4.9|        3.1|         1.5|        0.1|Iris-setosa|\n",
      "|         5.4|        3.7|         1.5|        0.2|Iris-setosa|\n",
      "|         4.8|        3.4|         1.6|        0.2|Iris-setosa|\n",
      "|         4.8|        3.0|         1.4|        0.1|Iris-setosa|\n",
      "|         4.3|        3.0|         1.1|        0.1|Iris-setosa|\n",
      "|         5.8|        4.0|         1.2|        0.2|Iris-setosa|\n",
      "|         5.7|        4.4|         1.5|        0.4|Iris-setosa|\n",
      "|         5.4|        3.9|         1.3|        0.4|Iris-setosa|\n",
      "|         5.1|        3.5|         1.4|        0.3|Iris-setosa|\n",
      "|         5.7|        3.8|         1.7|        0.3|Iris-setosa|\n",
      "|         5.1|        3.8|         1.5|        0.3|Iris-setosa|\n",
      "+------------+-----------+------------+-----------+-----------+\n",
      "only showing top 20 rows\n",
      "\n"
     ]
    }
   ],
   "source": [
    "irisDF = (spark.read\n",
    "          .option(\"HEADER\", True)\n",
    "          .option(\"inferSchema\", True)\n",
    "          .csv(\"iris.csv\")\n",
    "         )\n",
    "\n",
    "irisDF.show()"
   ]
  },
  {
   "cell_type": "markdown",
   "metadata": {},
   "source": [
    "## Tập dữ liệu Iris\n",
    "\n",
    "`sepal_length`: chiều dài đài hoa (cm)\n",
    "\n",
    "`sepal_width`: chiều rộng đài hoa (cm)\n",
    "\n",
    "`petal_length`: chiều dài cánh hoa (cm)\n",
    "\n",
    "`petal_width`: chiều rộng cánh hoa (cm)\n",
    "\n",
    "`class/label`: loại hoa"
   ]
  },
  {
   "cell_type": "markdown",
   "metadata": {},
   "source": [
    "## Xem các loại biến trong tập dữ liệu"
   ]
  },
  {
   "cell_type": "code",
   "execution_count": 3,
   "metadata": {},
   "outputs": [
    {
     "data": {
      "text/plain": [
       "[('sepal_length', 'double'),\n",
       " ('sepal_width', 'double'),\n",
       " ('petal_length', 'double'),\n",
       " ('petal_width', 'double'),\n",
       " ('class', 'string')]"
      ]
     },
     "execution_count": 3,
     "metadata": {},
     "output_type": "execute_result"
    }
   ],
   "source": [
    "irisDF.dtypes"
   ]
  },
  {
   "cell_type": "markdown",
   "metadata": {},
   "source": [
    "## Chuyển cột `class` (kiểu string) thành `label` (kiểu double)"
   ]
  },
  {
   "cell_type": "code",
   "execution_count": 4,
   "metadata": {},
   "outputs": [
    {
     "name": "stdout",
     "output_type": "stream",
     "text": [
      "StringIndexerModel: uid=StringIndexer_d1e015e7032c, handleInvalid=error\n",
      "+------------+-----------+------------+-----------+-----------+-----+\n",
      "|sepal_length|sepal_width|petal_length|petal_width|      class|label|\n",
      "+------------+-----------+------------+-----------+-----------+-----+\n",
      "|         5.1|        3.5|         1.4|        0.2|Iris-setosa|  0.0|\n",
      "|         4.9|        3.0|         1.4|        0.2|Iris-setosa|  0.0|\n",
      "|         4.7|        3.2|         1.3|        0.2|Iris-setosa|  0.0|\n",
      "|         4.6|        3.1|         1.5|        0.2|Iris-setosa|  0.0|\n",
      "|         5.0|        3.6|         1.4|        0.2|Iris-setosa|  0.0|\n",
      "|         5.4|        3.9|         1.7|        0.4|Iris-setosa|  0.0|\n",
      "|         4.6|        3.4|         1.4|        0.3|Iris-setosa|  0.0|\n",
      "|         5.0|        3.4|         1.5|        0.2|Iris-setosa|  0.0|\n",
      "|         4.4|        2.9|         1.4|        0.2|Iris-setosa|  0.0|\n",
      "|         4.9|        3.1|         1.5|        0.1|Iris-setosa|  0.0|\n",
      "|         5.4|        3.7|         1.5|        0.2|Iris-setosa|  0.0|\n",
      "|         4.8|        3.4|         1.6|        0.2|Iris-setosa|  0.0|\n",
      "|         4.8|        3.0|         1.4|        0.1|Iris-setosa|  0.0|\n",
      "|         4.3|        3.0|         1.1|        0.1|Iris-setosa|  0.0|\n",
      "|         5.8|        4.0|         1.2|        0.2|Iris-setosa|  0.0|\n",
      "|         5.7|        4.4|         1.5|        0.4|Iris-setosa|  0.0|\n",
      "|         5.4|        3.9|         1.3|        0.4|Iris-setosa|  0.0|\n",
      "|         5.1|        3.5|         1.4|        0.3|Iris-setosa|  0.0|\n",
      "|         5.7|        3.8|         1.7|        0.3|Iris-setosa|  0.0|\n",
      "|         5.1|        3.8|         1.5|        0.3|Iris-setosa|  0.0|\n",
      "+------------+-----------+------------+-----------+-----------+-----+\n",
      "only showing top 20 rows\n",
      "\n"
     ]
    }
   ],
   "source": [
    "from pyspark.ml.feature import StringIndexer\n",
    "\n",
    "class_indexer = StringIndexer(inputCol='class',outputCol='label')\n",
    "\n",
    "print(class_indexer.fit(irisDF))\n",
    "\n",
    "irisDFindexed = class_indexer.fit(irisDF).transform(irisDF)\n",
    "\n",
    "irisDFindexed.show()"
   ]
  },
  {
   "cell_type": "code",
   "execution_count": 5,
   "metadata": {},
   "outputs": [
    {
     "name": "stdout",
     "output_type": "stream",
     "text": [
      "+-----+---------------+\n",
      "|label|          class|\n",
      "+-----+---------------+\n",
      "|  0.0|    Iris-setosa|\n",
      "|  1.0|Iris-versicolor|\n",
      "|  2.0| Iris-virginica|\n",
      "+-----+---------------+\n",
      "\n"
     ]
    }
   ],
   "source": [
    "irisDFindexed.select(\"label\",\"class\").distinct().show()"
   ]
  },
  {
   "cell_type": "markdown",
   "metadata": {},
   "source": [
    "## Biến đổi data theo định dạng của Spark"
   ]
  },
  {
   "cell_type": "code",
   "execution_count": 6,
   "metadata": {},
   "outputs": [
    {
     "name": "stdout",
     "output_type": "stream",
     "text": [
      "+-----------------+\n",
      "|         features|\n",
      "+-----------------+\n",
      "|[5.1,3.5,1.4,0.2]|\n",
      "|[4.9,3.0,1.4,0.2]|\n",
      "|[4.7,3.2,1.3,0.2]|\n",
      "|[4.6,3.1,1.5,0.2]|\n",
      "|[5.0,3.6,1.4,0.2]|\n",
      "|[5.4,3.9,1.7,0.4]|\n",
      "|[4.6,3.4,1.4,0.3]|\n",
      "|[5.0,3.4,1.5,0.2]|\n",
      "|[4.4,2.9,1.4,0.2]|\n",
      "|[4.9,3.1,1.5,0.1]|\n",
      "+-----------------+\n",
      "only showing top 10 rows\n",
      "\n"
     ]
    }
   ],
   "source": [
    "from pyspark.ml.feature import VectorAssembler\n",
    "\n",
    "\n",
    "#vecAssembler = VectorAssembler(inputCols=['sepal_length','sepal_width','petal_length','petal_width'],\n",
    "#                            outputCol='features')\n",
    "#irisAssembler = vecAssembler.transform(irisDFindexed)\n",
    "\n",
    "irisAssembler = (VectorAssembler(inputCols = ['sepal_length', 'sepal_width','petal_length','petal_width'], \n",
    "                                  outputCol = 'features')\n",
    "                .transform(irisDFindexed))\n",
    "\n",
    "irisFeaturesDF = irisAssembler.select('features')\n",
    "irisFeaturesDF.show(10)"
   ]
  },
  {
   "cell_type": "code",
   "execution_count": 7,
   "metadata": {},
   "outputs": [
    {
     "data": {
      "text/plain": [
       "[('features', 'vector')]"
      ]
     },
     "execution_count": 7,
     "metadata": {},
     "output_type": "execute_result"
    }
   ],
   "source": [
    "irisFeaturesDF.dtypes"
   ]
  },
  {
   "cell_type": "markdown",
   "metadata": {},
   "source": [
    "## Sử dụng thuật toán gom cụm Kmeans"
   ]
  },
  {
   "cell_type": "markdown",
   "metadata": {},
   "source": [
    "**1.1** Áp dụng thuật toán `KMeans` trên `irisFeaturesDF` với `k = 3`, `maxIter = 20`"
   ]
  },
  {
   "cell_type": "code",
   "execution_count": 8,
   "metadata": {
    "scrolled": false
   },
   "outputs": [
    {
     "name": "stdout",
     "output_type": "stream",
     "text": [
      "[array([5.9016129 , 2.7483871 , 4.39354839, 1.43387097]), array([5.006, 3.418, 1.464, 0.244]), array([6.85      , 3.07368421, 5.74210526, 2.07105263])]\n",
      "+-----------------+----------+\n",
      "|features         |prediction|\n",
      "+-----------------+----------+\n",
      "|[5.1,3.5,1.4,0.2]|1         |\n",
      "|[4.9,3.0,1.4,0.2]|1         |\n",
      "|[4.7,3.2,1.3,0.2]|1         |\n",
      "|[4.6,3.1,1.5,0.2]|1         |\n",
      "|[5.0,3.6,1.4,0.2]|1         |\n",
      "|[5.4,3.9,1.7,0.4]|1         |\n",
      "|[4.6,3.4,1.4,0.3]|1         |\n",
      "|[5.0,3.4,1.5,0.2]|1         |\n",
      "|[4.4,2.9,1.4,0.2]|1         |\n",
      "|[4.9,3.1,1.5,0.1]|1         |\n",
      "|[5.4,3.7,1.5,0.2]|1         |\n",
      "|[4.8,3.4,1.6,0.2]|1         |\n",
      "|[4.8,3.0,1.4,0.1]|1         |\n",
      "|[4.3,3.0,1.1,0.1]|1         |\n",
      "|[5.8,4.0,1.2,0.2]|1         |\n",
      "|[5.7,4.4,1.5,0.4]|1         |\n",
      "|[5.4,3.9,1.3,0.4]|1         |\n",
      "|[5.1,3.5,1.4,0.3]|1         |\n",
      "|[5.7,3.8,1.7,0.3]|1         |\n",
      "|[5.1,3.8,1.5,0.3]|1         |\n",
      "|[5.4,3.4,1.7,0.2]|1         |\n",
      "|[5.1,3.7,1.5,0.4]|1         |\n",
      "|[4.6,3.6,1.0,0.2]|1         |\n",
      "|[5.1,3.3,1.7,0.5]|1         |\n",
      "|[4.8,3.4,1.9,0.2]|1         |\n",
      "|[5.0,3.0,1.6,0.2]|1         |\n",
      "|[5.0,3.4,1.6,0.4]|1         |\n",
      "|[5.2,3.5,1.5,0.2]|1         |\n",
      "|[5.2,3.4,1.4,0.2]|1         |\n",
      "|[4.7,3.2,1.6,0.2]|1         |\n",
      "|[4.8,3.1,1.6,0.2]|1         |\n",
      "|[5.4,3.4,1.5,0.4]|1         |\n",
      "|[5.2,4.1,1.5,0.1]|1         |\n",
      "|[5.5,4.2,1.4,0.2]|1         |\n",
      "|[4.9,3.1,1.5,0.1]|1         |\n",
      "|[5.0,3.2,1.2,0.2]|1         |\n",
      "|[5.5,3.5,1.3,0.2]|1         |\n",
      "|[4.9,3.1,1.5,0.1]|1         |\n",
      "|[4.4,3.0,1.3,0.2]|1         |\n",
      "|[5.1,3.4,1.5,0.2]|1         |\n",
      "|[5.0,3.5,1.3,0.3]|1         |\n",
      "|[4.5,2.3,1.3,0.3]|1         |\n",
      "|[4.4,3.2,1.3,0.2]|1         |\n",
      "|[5.0,3.5,1.6,0.6]|1         |\n",
      "|[5.1,3.8,1.9,0.4]|1         |\n",
      "|[4.8,3.0,1.4,0.3]|1         |\n",
      "|[5.1,3.8,1.6,0.2]|1         |\n",
      "|[4.6,3.2,1.4,0.2]|1         |\n",
      "|[5.3,3.7,1.5,0.2]|1         |\n",
      "|[5.0,3.3,1.4,0.2]|1         |\n",
      "|[7.0,3.2,4.7,1.4]|0         |\n",
      "|[6.4,3.2,4.5,1.5]|0         |\n",
      "|[6.9,3.1,4.9,1.5]|2         |\n",
      "|[5.5,2.3,4.0,1.3]|0         |\n",
      "|[6.5,2.8,4.6,1.5]|0         |\n",
      "|[5.7,2.8,4.5,1.3]|0         |\n",
      "|[6.3,3.3,4.7,1.6]|0         |\n",
      "|[4.9,2.4,3.3,1.0]|0         |\n",
      "|[6.6,2.9,4.6,1.3]|0         |\n",
      "|[5.2,2.7,3.9,1.4]|0         |\n",
      "|[5.0,2.0,3.5,1.0]|0         |\n",
      "|[5.9,3.0,4.2,1.5]|0         |\n",
      "|[6.0,2.2,4.0,1.0]|0         |\n",
      "|[6.1,2.9,4.7,1.4]|0         |\n",
      "|[5.6,2.9,3.6,1.3]|0         |\n",
      "|[6.7,3.1,4.4,1.4]|0         |\n",
      "|[5.6,3.0,4.5,1.5]|0         |\n",
      "|[5.8,2.7,4.1,1.0]|0         |\n",
      "|[6.2,2.2,4.5,1.5]|0         |\n",
      "|[5.6,2.5,3.9,1.1]|0         |\n",
      "|[5.9,3.2,4.8,1.8]|0         |\n",
      "|[6.1,2.8,4.0,1.3]|0         |\n",
      "|[6.3,2.5,4.9,1.5]|0         |\n",
      "|[6.1,2.8,4.7,1.2]|0         |\n",
      "|[6.4,2.9,4.3,1.3]|0         |\n",
      "|[6.6,3.0,4.4,1.4]|0         |\n",
      "|[6.8,2.8,4.8,1.4]|0         |\n",
      "|[6.7,3.0,5.0,1.7]|2         |\n",
      "|[6.0,2.9,4.5,1.5]|0         |\n",
      "|[5.7,2.6,3.5,1.0]|0         |\n",
      "|[5.5,2.4,3.8,1.1]|0         |\n",
      "|[5.5,2.4,3.7,1.0]|0         |\n",
      "|[5.8,2.7,3.9,1.2]|0         |\n",
      "|[6.0,2.7,5.1,1.6]|0         |\n",
      "|[5.4,3.0,4.5,1.5]|0         |\n",
      "|[6.0,3.4,4.5,1.6]|0         |\n",
      "|[6.7,3.1,4.7,1.5]|0         |\n",
      "|[6.3,2.3,4.4,1.3]|0         |\n",
      "|[5.6,3.0,4.1,1.3]|0         |\n",
      "|[5.5,2.5,4.0,1.3]|0         |\n",
      "|[5.5,2.6,4.4,1.2]|0         |\n",
      "|[6.1,3.0,4.6,1.4]|0         |\n",
      "|[5.8,2.6,4.0,1.2]|0         |\n",
      "|[5.0,2.3,3.3,1.0]|0         |\n",
      "|[5.6,2.7,4.2,1.3]|0         |\n",
      "|[5.7,3.0,4.2,1.2]|0         |\n",
      "|[5.7,2.9,4.2,1.3]|0         |\n",
      "|[6.2,2.9,4.3,1.3]|0         |\n",
      "|[5.1,2.5,3.0,1.1]|0         |\n",
      "|[5.7,2.8,4.1,1.3]|0         |\n",
      "+-----------------+----------+\n",
      "only showing top 100 rows\n",
      "\n"
     ]
    }
   ],
   "source": [
    "from pyspark.ml.clustering import KMeans\n",
    "\n",
    "kmeans = KMeans(k=3, seed=1, maxIter=20)\n",
    "\n",
    "#  Call fit on the estimator and pass in irisFeaturesDF\n",
    "model = kmeans.fit(irisFeaturesDF)\n",
    "\n",
    "# Obtain the clusterCenters from the KMeansModel\n",
    "centers = model.clusterCenters()\n",
    "\n",
    "# Use the model to transform the DataFrame by adding cluster predictions\n",
    "transformedDF = model.transform(irisFeaturesDF)\n",
    "\n",
    "print(centers)\n",
    "\n",
    "transformedDF.show(100,False)"
   ]
  },
  {
   "cell_type": "markdown",
   "metadata": {},
   "source": [
    "**1.2.** Tính giá trị `silhouette` của kết quả gom cụm"
   ]
  },
  {
   "cell_type": "code",
   "execution_count": 9,
   "metadata": {},
   "outputs": [
    {
     "name": "stdout",
     "output_type": "stream",
     "text": [
      "Silhouette with squared euclidean distance = 0.7354567373091194\n"
     ]
    }
   ],
   "source": [
    "from pyspark.ml.evaluation import ClusteringEvaluator\n",
    "\n",
    "evaluator = ClusteringEvaluator(metricName=\"silhouette\")\n",
    "\n",
    "silhouette = evaluator.evaluate(transformedDF)\n",
    "print(\"Silhouette with squared euclidean distance = \" + str(silhouette))"
   ]
  },
  {
   "cell_type": "markdown",
   "metadata": {},
   "source": [
    "**1.3.** Áp dụng thuật toán `KMeans` trên `irisFeaturesDF` với `k = 3`, và `maxIter` thay đổi"
   ]
  },
  {
   "cell_type": "code",
   "execution_count": 10,
   "metadata": {},
   "outputs": [],
   "source": [
    "modelCenters = []\n",
    "silhouetteModel = []\n",
    "iterations = [0, 2, 4, 7, 10, 20]\n",
    "for i in iterations:\n",
    "    kmeans = KMeans(k=3, seed=1, maxIter=i)\n",
    "    model = kmeans.fit(irisFeaturesDF)\n",
    "    modelCenters.append(model.clusterCenters())\n",
    "    \n",
    "    sillhouette = evaluator.evaluate(transformedDF)\n",
    "    silhouetteModel.append(sillhouette)"
   ]
  },
  {
   "cell_type": "markdown",
   "metadata": {},
   "source": [
    "In ra các centroid"
   ]
  },
  {
   "cell_type": "code",
   "execution_count": 11,
   "metadata": {
    "scrolled": false
   },
   "outputs": [
    {
     "name": "stdout",
     "output_type": "stream",
     "text": [
      "modelCenters:\n",
      "[array([5.94328358, 2.72835821, 4.4119403 , 1.46865672]), array([4.98 , 3.304, 1.462, 0.22 ]), array([6.86969697, 3.18787879, 5.76060606, 2.21212121])]\n",
      "[array([5.9016129 , 2.7483871 , 4.39354839, 1.43387097]), array([5.006, 3.418, 1.464, 0.244]), array([6.85      , 3.07368421, 5.74210526, 2.07105263])]\n",
      "[array([5.9016129 , 2.7483871 , 4.39354839, 1.43387097]), array([5.006, 3.418, 1.464, 0.244]), array([6.85      , 3.07368421, 5.74210526, 2.07105263])]\n",
      "[array([5.9016129 , 2.7483871 , 4.39354839, 1.43387097]), array([5.006, 3.418, 1.464, 0.244]), array([6.85      , 3.07368421, 5.74210526, 2.07105263])]\n",
      "[array([5.9016129 , 2.7483871 , 4.39354839, 1.43387097]), array([5.006, 3.418, 1.464, 0.244]), array([6.85      , 3.07368421, 5.74210526, 2.07105263])]\n",
      "[array([5.9016129 , 2.7483871 , 4.39354839, 1.43387097]), array([5.006, 3.418, 1.464, 0.244]), array([6.85      , 3.07368421, 5.74210526, 2.07105263])]\n",
      "silhouettes:\n",
      "0.7354567373091194\n",
      "0.7354567373091194\n",
      "0.7354567373091194\n",
      "0.7354567373091194\n",
      "0.7354567373091194\n",
      "0.7354567373091194\n"
     ]
    }
   ],
   "source": [
    "print(\"modelCenters:\")\n",
    "for centroids in modelCenters:\n",
    "  print(centroids)\n",
    "\n",
    "\n",
    "print(\"silhouettes:\")\n",
    "for silhouette in silhouetteModel:\n",
    "  print(silhouette)"
   ]
  },
  {
   "cell_type": "markdown",
   "metadata": {},
   "source": [
    "# II. Áp dụng"
   ]
  },
  {
   "cell_type": "markdown",
   "metadata": {},
   "source": [
    "## Câu 1 - Áp dụng `Kmeans` với tập dữ liệu `iris`"
   ]
  },
  {
   "cell_type": "markdown",
   "metadata": {},
   "source": [
    "**1.1.** Tạo `features` column cho tập dữ liệu `iris` chỉ dùng 2 thuộc tính `sepal_length` và `sepal_width`."
   ]
  },
  {
   "cell_type": "code",
   "execution_count": 12,
   "metadata": {},
   "outputs": [
    {
     "name": "stdout",
     "output_type": "stream",
     "text": [
      "+---------+\n",
      "| features|\n",
      "+---------+\n",
      "|[5.1,3.5]|\n",
      "|[4.9,3.0]|\n",
      "|[4.7,3.2]|\n",
      "|[4.6,3.1]|\n",
      "|[5.0,3.6]|\n",
      "|[5.4,3.9]|\n",
      "|[4.6,3.4]|\n",
      "|[5.0,3.4]|\n",
      "|[4.4,2.9]|\n",
      "|[4.9,3.1]|\n",
      "+---------+\n",
      "only showing top 10 rows\n",
      "\n"
     ]
    }
   ],
   "source": [
    "# Viết code của bạn ở đây\n",
    "irisDF2 = irisDF.select(\"sepal_length\", \"sepal_width\")\n",
    "\n",
    "irisAssembler = (VectorAssembler( inputCols = [\"sepal_length\", \"sepal_width\"],\n",
    "                    outputCol = \"features\")\n",
    "                    .transform(irisDF2))\n",
    "irisFeaturesDF = irisAssembler.select('features')\n",
    "irisFeaturesDF.show(10)"
   ]
  },
  {
   "cell_type": "markdown",
   "metadata": {},
   "source": [
    "**1.2.** Áp dụng `Kmeans` cho tập dữ liệu `iris` trên `features` vừa tạo với các giá trị siêu tham số `k = 3`, `seed=1`, và `maxIter=20`. Tham khảo document về `Kmeans` của Spark ở [Kmeans](https://spark.apache.org/docs/latest/api/python/pyspark.ml.html#pyspark.ml.clustering.KMeans)."
   ]
  },
  {
   "cell_type": "code",
   "execution_count": 13,
   "metadata": {},
   "outputs": [
    {
     "name": "stdout",
     "output_type": "stream",
     "text": [
      "[array([5.8, 2.7]), array([5.00392157, 3.4       ]), array([6.82391304, 3.07826087])]\n",
      "+---------+----------+\n",
      "|features |prediction|\n",
      "+---------+----------+\n",
      "|[5.1,3.5]|1         |\n",
      "|[4.9,3.0]|1         |\n",
      "|[4.7,3.2]|1         |\n",
      "|[4.6,3.1]|1         |\n",
      "|[5.0,3.6]|1         |\n",
      "|[5.4,3.9]|1         |\n",
      "|[4.6,3.4]|1         |\n",
      "|[5.0,3.4]|1         |\n",
      "|[4.4,2.9]|1         |\n",
      "|[4.9,3.1]|1         |\n",
      "|[5.4,3.7]|1         |\n",
      "|[4.8,3.4]|1         |\n",
      "|[4.8,3.0]|1         |\n",
      "|[4.3,3.0]|1         |\n",
      "|[5.8,4.0]|1         |\n",
      "|[5.7,4.4]|1         |\n",
      "|[5.4,3.9]|1         |\n",
      "|[5.1,3.5]|1         |\n",
      "|[5.7,3.8]|1         |\n",
      "|[5.1,3.8]|1         |\n",
      "|[5.4,3.4]|1         |\n",
      "|[5.1,3.7]|1         |\n",
      "|[4.6,3.6]|1         |\n",
      "|[5.1,3.3]|1         |\n",
      "|[4.8,3.4]|1         |\n",
      "|[5.0,3.0]|1         |\n",
      "|[5.0,3.4]|1         |\n",
      "|[5.2,3.5]|1         |\n",
      "|[5.2,3.4]|1         |\n",
      "|[4.7,3.2]|1         |\n",
      "|[4.8,3.1]|1         |\n",
      "|[5.4,3.4]|1         |\n",
      "|[5.2,4.1]|1         |\n",
      "|[5.5,4.2]|1         |\n",
      "|[4.9,3.1]|1         |\n",
      "|[5.0,3.2]|1         |\n",
      "|[5.5,3.5]|1         |\n",
      "|[4.9,3.1]|1         |\n",
      "|[4.4,3.0]|1         |\n",
      "|[5.1,3.4]|1         |\n",
      "|[5.0,3.5]|1         |\n",
      "|[4.5,2.3]|1         |\n",
      "|[4.4,3.2]|1         |\n",
      "|[5.0,3.5]|1         |\n",
      "|[5.1,3.8]|1         |\n",
      "|[4.8,3.0]|1         |\n",
      "|[5.1,3.8]|1         |\n",
      "|[4.6,3.2]|1         |\n",
      "|[5.3,3.7]|1         |\n",
      "|[5.0,3.3]|1         |\n",
      "|[7.0,3.2]|2         |\n",
      "|[6.4,3.2]|2         |\n",
      "|[6.9,3.1]|2         |\n",
      "|[5.5,2.3]|0         |\n",
      "|[6.5,2.8]|2         |\n",
      "|[5.7,2.8]|0         |\n",
      "|[6.3,3.3]|2         |\n",
      "|[4.9,2.4]|0         |\n",
      "|[6.6,2.9]|2         |\n",
      "|[5.2,2.7]|0         |\n",
      "|[5.0,2.0]|0         |\n",
      "|[5.9,3.0]|0         |\n",
      "|[6.0,2.2]|0         |\n",
      "|[6.1,2.9]|0         |\n",
      "|[5.6,2.9]|0         |\n",
      "|[6.7,3.1]|2         |\n",
      "|[5.6,3.0]|0         |\n",
      "|[5.8,2.7]|0         |\n",
      "|[6.2,2.2]|0         |\n",
      "|[5.6,2.5]|0         |\n",
      "|[5.9,3.2]|0         |\n",
      "|[6.1,2.8]|0         |\n",
      "|[6.3,2.5]|0         |\n",
      "|[6.1,2.8]|0         |\n",
      "|[6.4,2.9]|2         |\n",
      "|[6.6,3.0]|2         |\n",
      "|[6.8,2.8]|2         |\n",
      "|[6.7,3.0]|2         |\n",
      "|[6.0,2.9]|0         |\n",
      "|[5.7,2.6]|0         |\n",
      "|[5.5,2.4]|0         |\n",
      "|[5.5,2.4]|0         |\n",
      "|[5.8,2.7]|0         |\n",
      "|[6.0,2.7]|0         |\n",
      "|[5.4,3.0]|0         |\n",
      "|[6.0,3.4]|0         |\n",
      "|[6.7,3.1]|2         |\n",
      "|[6.3,2.3]|0         |\n",
      "|[5.6,3.0]|0         |\n",
      "|[5.5,2.5]|0         |\n",
      "|[5.5,2.6]|0         |\n",
      "|[6.1,3.0]|0         |\n",
      "|[5.8,2.6]|0         |\n",
      "|[5.0,2.3]|0         |\n",
      "|[5.6,2.7]|0         |\n",
      "|[5.7,3.0]|0         |\n",
      "|[5.7,2.9]|0         |\n",
      "|[6.2,2.9]|0         |\n",
      "|[5.1,2.5]|0         |\n",
      "|[5.7,2.8]|0         |\n",
      "+---------+----------+\n",
      "only showing top 100 rows\n",
      "\n"
     ]
    }
   ],
   "source": [
    "# Viết code của bạn ở đây\n",
    "kmeans = KMeans(k=3, seed=1, maxIter=20)\n",
    "\n",
    "#  Call fit on the estimator and pass in irisFeaturesDF\n",
    "model = kmeans.fit(irisFeaturesDF)\n",
    "\n",
    "# Obtain the clusterCenters from the KMeansModel\n",
    "centers = model.clusterCenters()\n",
    "\n",
    "# Use the model to transform the DataFrame by adding cluster predictions\n",
    "transformedDF = model.transform(irisFeaturesDF)\n",
    "\n",
    "print(centers)\n",
    "\n",
    "transformedDF.show(100,False)"
   ]
  },
  {
   "cell_type": "markdown",
   "metadata": {},
   "source": [
    "**1.2.** Tính giá trị `silhouette` của kết quả gom cụm"
   ]
  },
  {
   "cell_type": "code",
   "execution_count": 14,
   "metadata": {
    "scrolled": true
   },
   "outputs": [
    {
     "data": {
      "text/plain": [
       "0.6144693759745256"
      ]
     },
     "execution_count": 14,
     "metadata": {},
     "output_type": "execute_result"
    }
   ],
   "source": [
    "# Viết code của bạn ở đây\n",
    "evaluator = ClusteringEvaluator(metricName=\"silhouette\")\n",
    "\n",
    "evaluator.evaluate(transformedDF)"
   ]
  },
  {
   "cell_type": "code",
   "execution_count": 15,
   "metadata": {},
   "outputs": [
    {
     "name": "stdout",
     "output_type": "stream",
     "text": [
      "+---------+----------+\n",
      "| features|prediction|\n",
      "+---------+----------+\n",
      "|[5.1,3.5]|         1|\n",
      "|[4.9,3.0]|         1|\n",
      "|[4.7,3.2]|         1|\n",
      "|[4.6,3.1]|         1|\n",
      "|[5.0,3.6]|         1|\n",
      "|[5.4,3.9]|         1|\n",
      "|[4.6,3.4]|         1|\n",
      "|[5.0,3.4]|         1|\n",
      "|[4.4,2.9]|         1|\n",
      "|[4.9,3.1]|         1|\n",
      "|[5.4,3.7]|         1|\n",
      "|[4.8,3.4]|         1|\n",
      "|[4.8,3.0]|         1|\n",
      "|[4.3,3.0]|         1|\n",
      "|[5.8,4.0]|         1|\n",
      "|[5.7,4.4]|         1|\n",
      "|[5.4,3.9]|         1|\n",
      "|[5.1,3.5]|         1|\n",
      "|[5.7,3.8]|         1|\n",
      "|[5.1,3.8]|         1|\n",
      "+---------+----------+\n",
      "only showing top 20 rows\n",
      "\n"
     ]
    }
   ],
   "source": [
    "transformedDF.show()"
   ]
  },
  {
   "cell_type": "markdown",
   "metadata": {},
   "source": [
    "**1.3.** Áp dụng thuật toán `KMeans` trên `features` đã tạo với `k = 3`, và `maxIter` thay đổi. In ra các centers và chỉ số `silhouette` cho từng kết quả gom cụm."
   ]
  },
  {
   "cell_type": "code",
   "execution_count": 16,
   "metadata": {},
   "outputs": [],
   "source": [
    "# Viết code của bạn ở đây\n",
    "modelCenters = []\n",
    "silhouetteModel = []\n",
    "iterations = [0, 2, 4, 7, 10, 20]\n",
    "for i in iterations:\n",
    "    kmeans = KMeans(k=3, seed=1, maxIter=i)\n",
    "    model = kmeans.fit(irisFeaturesDF)\n",
    "    modelCenters.append(model.clusterCenters())\n",
    "    \n",
    "    sillhouette = evaluator.evaluate(transformedDF)\n",
    "    silhouetteModel.append(sillhouette)"
   ]
  },
  {
   "cell_type": "code",
   "execution_count": 17,
   "metadata": {},
   "outputs": [
    {
     "name": "stdout",
     "output_type": "stream",
     "text": [
      "modelCenters:\n",
      "[array([5.74150943, 2.62075472]), array([5.57804878, 3.33780488]), array([7.47333333, 2.98      ])]\n",
      "[array([5.87118644, 2.73389831]), array([5.01153846, 3.39230769]), array([6.91025641, 3.08717949])]\n",
      "[array([5.84909091, 2.70909091]), array([5.00192308, 3.38076923]), array([6.85348837, 3.1       ])]\n",
      "[array([5.8, 2.7]), array([5.00392157, 3.4       ]), array([6.82391304, 3.07826087])]\n",
      "[array([5.8, 2.7]), array([5.00392157, 3.4       ]), array([6.82391304, 3.07826087])]\n",
      "[array([5.8, 2.7]), array([5.00392157, 3.4       ]), array([6.82391304, 3.07826087])]\n"
     ]
    }
   ],
   "source": [
    "print(\"modelCenters:\")\n",
    "for centroids in modelCenters:\n",
    "  print(centroids)"
   ]
  },
  {
   "cell_type": "code",
   "execution_count": 18,
   "metadata": {},
   "outputs": [
    {
     "name": "stdout",
     "output_type": "stream",
     "text": [
      "silhouettes:\n",
      "0.6144693759745256\n",
      "0.6144693759745256\n",
      "0.6144693759745256\n",
      "0.6144693759745256\n",
      "0.6144693759745256\n",
      "0.6144693759745256\n"
     ]
    }
   ],
   "source": [
    "print(\"silhouettes:\")\n",
    "for silhouette in silhouetteModel:\n",
    "  print(silhouette)"
   ]
  },
  {
   "cell_type": "markdown",
   "metadata": {},
   "source": [
    "**1.4.** Trực quan hóa kết quả gom cụm dùng thư viện `matplotlib`. Tham khảo [python-machine-learning-book-3rd-edition-chapter11-notebook](https://github.com/rasbt/python-machine-learning-book-3rd-edition/blob/master/ch11/ch11.ipynb)."
   ]
  },
  {
   "cell_type": "code",
   "execution_count": 23,
   "metadata": {},
   "outputs": [
    {
     "name": "stderr",
     "output_type": "stream",
     "text": [
      "Matplotlib is building the font cache; this may take a moment.\n",
      "/home/giangvdq/.local/lib/python3.8/site-packages/sklearn/cluster/_kmeans.py:938: FutureWarning: 'n_jobs' was deprecated in version 0.23 and will be removed in 0.25.\n",
      "  warnings.warn(\"'n_jobs' was deprecated in version 0.23 and will be\"\n"
     ]
    },
    {
     "data": {
      "image/png": "[encoded data removed]",
      "text/plain": [
       "<Figure size 432x288 with 1 Axes>"
      ]
     },
     "metadata": {
      "needs_background": "light"
     },
     "output_type": "display_data"
    }
   ],
   "source": [
    "# Viết code của bạn ở đây\n",
    "from sklearn import datasets\n",
    "import matplotlib.pyplot as plt\n",
    "import pandas as pd\n",
    "from sklearn.cluster import KMeans\n",
    "iris = datasets.load_iris()\n",
    "X = iris.data[:,:2]\n",
    "y = iris.target\n",
    "plt.scatter(X[:,0], X[:,1], c=y, cmap='gist_rainbow')\n",
    "plt.xlabel('Speal Length', fontsize=18)\n",
    "plt.ylabel('Sepal Width', fontsize=18)\n",
    "\n",
    "\n",
    "km = KMeans(n_clusters = 3, n_jobs = 4, random_state=21)\n",
    "\n",
    "\n",
    "y_km = km.fit_predict(X)\n",
    "plt.scatter(X[y_km == 0, 0],\n",
    "            X[y_km == 0, 1],\n",
    "            s=50, c='lightgreen',\n",
    "            marker='s', edgecolor='black',\n",
    "            label='Cluster 1')\n",
    "plt.scatter(X[y_km == 1, 0],\n",
    "            X[y_km == 1, 1],\n",
    "            s=50, c='orange',\n",
    "            marker='o', edgecolor='black',\n",
    "            label='Cluster 2')\n",
    "plt.scatter(X[y_km == 2, 0],\n",
    "            X[y_km == 2, 1],\n",
    "            s=50, c='lightblue',\n",
    "            marker='v', edgecolor='black',\n",
    "            label='Cluster 3')\n",
    "plt.scatter(km.cluster_centers_[:, 0],\n",
    "            km.cluster_centers_[:, 1],\n",
    "            s=250, marker='*',\n",
    "            c='red', edgecolor='black',\n",
    "            label='Centroids')\n",
    "plt.legend(scatterpoints=1)\n",
    "plt.grid()\n",
    "plt.tight_layout()\n",
    "#plt.savefig('images/11_02.png', dpi=300)\n",
    "plt.show()"
   ]
  },
  {
   "cell_type": "markdown",
   "metadata": {},
   "source": [
    "## Câu 2 - Áp dụng `BisectingKMeans` trên tập dữ liệu `iris`"
   ]
  },
  {
   "cell_type": "markdown",
   "metadata": {},
   "source": [
    "**Bisecting Kmeans** là một thuật toán gọm cụm thuộc nhóm **hierarchical clustering**. Khác với thuật toán **AGNES (agglomerative nesting)** tiếp cận theo hướng **bottom-up**, thuật toán **Bisecting Kmeans** tiếp cận theo hướng **top-down**.\n",
    "\n",
    "**Ý tưởng của thuật toán Bisecting Kmeans**\n",
    "\n",
    "Thuật toán khởi đầu bằng việc xem tất cả các điểm dữ liệu thuộc cùng một cụm và sau đó tiến hành như sau:\n",
    "\n",
    "1. Chọn một cụm để tách\n",
    "2. Tách cụm đã chọn thành 2 `sub-clusters` dùng thuật toán `K-means`. (`bisecting step`) \n",
    "3. Lặp lại bước 2 (`bisecting step`) `iter` lần và chọn ra phép tách tạo ra các cụm có `độ tương tự tổng thể` cao nhất.\n",
    "4. Lặp lại bước 1, 2, và 3 cho đến khi đạt được số cụm mong muốn. \n",
    "\n",
    "- Có nhiều cách khác nhau để **chọn cụm để tách** (bước 1). Ta có thể chọn cụm có kích cỡ lớn nhất (nhiều phần tử nhất) ở mỗi bước, hoặc chọn cụm có độ tương tự tổng thể nhỏ nhất, hoặc chọn cụm dùng cả hai tiêu chí về kích cỡ và độ tương tự tổng thể.\n",
    "\n",
    "- `Độ tương tự tổng thể` (`overall similarity`) của một cụm được tính bằng độ tương tự trung bình của các cặp phần tử trong cùng một cụm (`pairwise similarity`)."
   ]
  },
  {
   "cell_type": "code",
   "execution_count": 25,
   "metadata": {},
   "outputs": [],
   "source": [
    "# Viết code của bạn ở đây\n",
    "\n",
    "from pyspark.ml.clustering import BisectingKMeans\n",
    "\n",
    "# Trains a bisecting k-means model.\n",
    "bkm = BisectingKMeans().setK(3).setSeed(1)\n",
    "model = bkm.fit(irisAssembler)"
   ]
  },
  {
   "cell_type": "code",
   "execution_count": 27,
   "metadata": {},
   "outputs": [
    {
     "name": "stdout",
     "output_type": "stream",
     "text": [
      "Within Set Sum of Squared Errors = 41.36153800650694\n"
     ]
    }
   ],
   "source": [
    "# Evaluate clustering.\n",
    "cost = model.computeCost(irisAssembler)\n",
    "print(\"Within Set Sum of Squared Errors = \" + str(cost))"
   ]
  },
  {
   "cell_type": "code",
   "execution_count": 28,
   "metadata": {},
   "outputs": [
    {
     "name": "stdout",
     "output_type": "stream",
     "text": [
      "Cluster Centers: \n",
      "[5.5  2.65]\n",
      "[5.01632653 3.44081633]\n",
      "[6.58985507 2.96666667]\n"
     ]
    }
   ],
   "source": [
    "# Shows the result.\n",
    "print(\"Cluster Centers: \")\n",
    "centers = model.clusterCenters()\n",
    "for center in centers:\n",
    "    print(center)"
   ]
  },
  {
   "cell_type": "markdown",
   "metadata": {},
   "source": [
    "## Câu 3 - Áp dụng `GaussianMixture` trên tập dữ liệu `iris`"
   ]
  },
  {
   "cell_type": "markdown",
   "metadata": {},
   "source": [
    "**Gaussian Mixture Model** là một trường hợp đặt biệt của [**Mixture Model**](https://en.wikipedia.org/wiki/Mixture_model). Mô hình hỗn hợp (mixture model) là một mô hình xác suất biểu diễn cho sự hiện diện của các nhóm con trong một tổng thể. Một mô hình hỗn hợp tương ứng với phân bố hỗn hợp (mixture distribution) biểu diễn phân phối xác suất của các phần tử trong một tổng thể.\n",
    "\n",
    "Mixture model cũng thuộc lớp các `mô hình sinh` (`generative model`). `Mô hình sinh` dựa trên ý tưởng dữ liệu được sinh từ một mô hình ẩn bên dưới với các tham số. Ta cần tìm cách ước lượng các tham số sao cho nó cực đại hóa xác suất sinh ra dữ liệu. `Mô hình hỗn hợp Gauss` (`Gaussian mixture model`) giả định rằng dữ liệu được sinh từ một tổ hợp các phân bố Gauss. Ta cần ước lượng các tham số của mô hình, tức $\\theta = \\{(\\mu_i, \\sigma_i)\\}_{i=1..k}$ (mỗi phân bố Gauss được biểu diễn bởi một cặp $(\\mu_i, \\sigma_i)$), sao cho xác xuất sinh ra tập dữ liệu $D = \\{x_1, x_2, \\cdots, x_n\\}$, $P(D | \\theta)$, là lớn nhất. Thuật toán `Expectation-Maximization` (`EM`) thường được sử dụng để ước lượng các tham số cho mô hình `Gaussian mixture model`. Tham khảo thêm [Gaussian mixture model](https://fallfordata.com/soft-clustering-with-gaussian-mixture-models-gmm/).\n",
    "\n",
    "Khác với các thuật toán `gom cụm cứng` (`hard clustering`), Gaussian mixture model được xem là một thuật toán `gom cụm mềm` (`soft clustring`). Mỗi phần tử có thể thuộc nhiều cụm ứng với xác suất khác nhau."
   ]
  },
  {
   "cell_type": "code",
   "execution_count": 32,
   "metadata": {},
   "outputs": [
    {
     "name": "stdout",
     "output_type": "stream",
     "text": [
      "Gaussians shown as a DataFrame: \n",
      "+--------------------+--------------------+\n",
      "|                mean|                 cov|\n",
      "+--------------------+--------------------+\n",
      "|[6.05512780452505...|0.327557618491266...|\n",
      "|[6.33126469977101...|0.517882974473787...|\n",
      "|[5.01560927774038...|0.119415061646363...|\n",
      "+--------------------+--------------------+\n",
      "\n"
     ]
    }
   ],
   "source": [
    "# Viết code của bạn ở đây\n",
    "from pyspark.ml.clustering import GaussianMixture\n",
    "\n",
    "gmm = GaussianMixture().setK(3).setSeed(538009335)\n",
    "model = gmm.fit(irisFeaturesDF)\n",
    "\n",
    "print(\"Gaussians shown as a DataFrame: \")\n",
    "model.gaussiansDF.show()"
   ]
  }
 ],
 "metadata": {
  "kernelspec": {
   "display_name": "Python 3",
   "language": "python",
   "name": "python3"
  },
  "language_info": {
   "codemirror_mode": {
    "name": "ipython",
    "version": 3
   },
   "file_extension": ".py",
   "mimetype": "text/x-python",
   "name": "python",
   "nbconvert_exporter": "python",
   "pygments_lexer": "ipython3",
   "version": "3.8.5"
  }
 },
 "nbformat": 4,
 "nbformat_minor": 4
}
